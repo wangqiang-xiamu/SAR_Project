{
 "cells": [
  {
   "cell_type": "code",
   "execution_count": 1,
   "id": "b10bdcc3-d51a-4191-bc56-5228d99469b2",
   "metadata": {},
   "outputs": [
    {
     "name": "stdout",
     "output_type": "stream",
     "text": [
      "False\n",
      "None\n"
     ]
    }
   ],
   "source": [
    "import torch\n",
    "print(torch.cuda.is_available())  # 如果返回 False，说明 PyTorch 不支持 CUDA\n",
    "\n",
    "print(torch.version.cuda)         # 查看 CUDA 版本"
   ]
  },
  {
   "cell_type": "code",
   "execution_count": null,
   "id": "165f4b16-b760-48ce-993a-c15374d79550",
   "metadata": {},
   "outputs": [],
   "source": []
  }
 ],
 "metadata": {
  "kernelspec": {
   "display_name": "Python 3 (ipykernel)",
   "language": "python",
   "name": "python3"
  },
  "language_info": {
   "codemirror_mode": {
    "name": "ipython",
    "version": 3
   },
   "file_extension": ".py",
   "mimetype": "text/x-python",
   "name": "python",
   "nbconvert_exporter": "python",
   "pygments_lexer": "ipython3",
   "version": "3.11.5"
  }
 },
 "nbformat": 4,
 "nbformat_minor": 5
}
